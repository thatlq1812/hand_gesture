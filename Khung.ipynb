{
 "cells": [
  {
   "cell_type": "code",
   "execution_count": 15,
   "metadata": {},
   "outputs": [],
   "source": [
    "from PIL import Image, ImageDraw\n",
    "import numpy as np\n",
    "\n",
    "def draw_rectangle(image_array, top_left, bottom_right, color, thickness):\n",
    "    \"\"\"\n",
    "    Vẽ khung bao trên ảnh.\n",
    "\n",
    "    Parameters:\n",
    "    - image_array: Ảnh đầu vào dạng numpy array (height, width, channels).\n",
    "    - top_left: Tọa độ góc trên trái của khung bao (x_min, y_min).\n",
    "    - bottom_right: Tọa độ góc dưới phải của khung bao (x_max, y_max).\n",
    "    - color: Màu của khung bao (R, G, B).\n",
    "    - thickness: Độ dày của khung bao.\n",
    "    \"\"\"\n",
    "    x_min, y_min = top_left\n",
    "    x_max, y_max = bottom_right\n",
    "\n",
    "    # Tạo một bản sao của ảnh để vẽ lên\n",
    "    img = Image.fromarray(image_array)\n",
    "    draw = ImageDraw.Draw(img)\n",
    "\n",
    "    # Vẽ các đường của khung bao\n",
    "    for i in range(thickness):\n",
    "        draw.rectangle([x_min+i, y_min+i, x_max-i, y_max-i], outline=color)\n",
    "    return np.array(img)\n",
    "\n",
    "# Ví dụ sử dụng hàm\n",
    "if __name__ == \"__main__\":\n",
    "    # Đọc ảnh từ file\n",
    "    image_path = '000009.jpg'\n",
    "    image = Image.open(image_path)\n",
    "    image_array = np.array(image)\n",
    "\n",
    "    # Tọa độ của khung bao\n",
    "    top_left = (30, 50)\n",
    "    bottom_right = (140, 180)\n",
    "\n",
    "    # Màu của khung bao (red)\n",
    "    color = (255, 0, 0)\n",
    "\n",
    "    # Độ dày của khung bao\n",
    "    thickness = 5\n",
    "\n",
    "    # Vẽ khung bao lên ảnh\n",
    "    image_with_rectangle = draw_rectangle(image_array, top_left, bottom_right, color, thickness)\n",
    "\n",
    "    # Hiển thị ảnh kết quả\n",
    "    result_image = Image.fromarray(image_with_rectangle)\n",
    "    result_image.show()\n"
   ]
  }
 ],
 "metadata": {
  "kernelspec": {
   "display_name": "Python 3",
   "language": "python",
   "name": "python3"
  },
  "language_info": {
   "codemirror_mode": {
    "name": "ipython",
    "version": 3
   },
   "file_extension": ".py",
   "mimetype": "text/x-python",
   "name": "python",
   "nbconvert_exporter": "python",
   "pygments_lexer": "ipython3",
   "version": "3.12.2"
  }
 },
 "nbformat": 4,
 "nbformat_minor": 2
}
