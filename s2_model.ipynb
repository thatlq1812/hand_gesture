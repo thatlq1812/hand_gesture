{
 "cells": [
  {
   "cell_type": "code",
   "execution_count": null,
   "metadata": {},
   "outputs": [],
   "source": [
    "import cv2\n",
    "import numpy as np\n",
    "from skimage.feature import hog\n",
    "from sklearn.model_selection import train_test_split\n",
    "from sklearn.svm import SVC\n",
    "from sklearn.metrics import accuracy_score\n",
    "import os\n"
   ]
  },
  {
   "cell_type": "code",
   "execution_count": null,
   "metadata": {},
   "outputs": [],
   "source": [
    "# Hàm để trích xuất đặc trưng HOG từ ảnh grayscale\n",
    "def extract_hog_features(image):\n",
    "    # Áp dụng HOG và trả về các đặc trưng\n",
    "    features = hog(image, orientations=9, pixels_per_cell=(8, 8),\n",
    "                   cells_per_block=(2, 2), transform_sqrt=True, block_norm='L2-Hys')\n",
    "    return features\n"
   ]
  },
  {
   "cell_type": "code",
   "execution_count": null,
   "metadata": {},
   "outputs": [],
   "source": [
    "# Đường dẫn tới thư mục chứa dữ liệu bàn tay\n",
    "hand_dataset_path = 'signdata/Train'\n",
    "\n",
    "# Hàm để load dữ liệu từ thư mục và trích xuất HOG features\n",
    "# Thư mục chứa các folder từ A đến Z, mỗi folder chứa ảnh bàn tay, không có ảnh không có bàn tay\n",
    "def load_hand_dataset(dataset_path):\n",
    "    X, y = [], []\n",
    "    for folder in os.listdir(dataset_path):\n",
    "        folder_path = os.path.join(dataset_path, folder)\n",
    "        for file_name in os.listdir(folder_path):\n",
    "            image_path = os.path.join(folder_path, file_name)\n",
    "            image = cv2.imread(image_path, cv2.IMREAD_GRAYSCALE)\n",
    "            if image is not None:\n",
    "                features = extract_hog_features(image)\n",
    "                X.append(features)\n",
    "                y.append(1)\n",
    "    return np.array(X), np.array(y)\n",
    "\n",
    "    X = []\n",
    "    y = []\n",
    "    for root, dirs, files in os.walk(dataset_path):\n",
    "        for file in files:\n",
    "            if file.endswith(\".jpg\") or file.endswith(\".png\"):\n",
    "                img_path = os.path.join(root, file)\n",
    "                # Đọc ảnh grayscale\n",
    "                img = cv2.imread(img_path, cv2.IMREAD_GRAYSCALE)\n",
    "                # Trích xuất đặc trưng HOG\n",
    "                features = extract_hog_features(img)\n",
    "                X.append(features)\n",
    "                # Xác định nhãn (1: là bàn tay, 0: không phải bàn tay)\n",
    "                label = 1 if 'hand' in root else 0\n",
    "                y.append(label)\n",
    "    return np.array(X), np.array(y)\n",
    "\n",
    "# Load dữ liệu từ thư mục\n",
    "X, y = load_hand_dataset(hand_dataset_path)\n"
   ]
  },
  {
   "cell_type": "code",
   "execution_count": null,
   "metadata": {},
   "outputs": [],
   "source": [
    "from sklearn.svm import SVC\n",
    "from sklearn.model_selection import train_test_split\n",
    "from sklearn.metrics import accuracy_score\n",
    "\n",
    "# Chia dữ liệu thành tập huấn luyện và tập kiểm tra\n",
    "X_train, X_test, y_train, y_test = train_test_split(X, y, test_size=0.2, random_state=42)\n",
    "\n",
    "# Khởi tạo và huấn luyện mô hình SVM\n",
    "svm_model = SVC(kernel='linear', C=1.0, random_state=42)\n",
    "svm_model.fit(X_train, y_train)\n",
    "\n",
    "# Dự đoán trên tập kiểm tra\n",
    "y_pred = svm_model.predict(X_test)\n",
    "\n",
    "# Đánh giá độ chính xác của mô hình\n",
    "accuracy = accuracy_score(y_test, y_pred)\n",
    "print(f'Độ chính xác của mô hình là: {accuracy * 100:.2f}%')\n"
   ]
  },
  {
   "cell_type": "code",
   "execution_count": null,
   "metadata": {},
   "outputs": [],
   "source": [
    "def predict_hand(image_path, model):\n",
    "    # Đọc ảnh và chuyển đổi thành grayscale\n",
    "    img = cv2.imread(image_path, cv2.IMREAD_GRAYSCALE)\n",
    "    # Trích xuất đặc trưng HOG từ ảnh\n",
    "    features = extract_hog_features(img)\n",
    "    # Reshape features vì mô hình cần đầu vào là 2D array\n",
    "    features = features.reshape(1, -1)\n",
    "    # Dự đoán\n",
    "    prediction = model.predict(features)\n",
    "    if prediction[0] == 1:\n",
    "        return \"This is likely a hand.\"\n",
    "    else:\n",
    "        return \"This is not a hand.\"\n",
    "\n",
    "# Dự đoán trên ảnh mới\n",
    "image_path = 'path_to_your_test_image.jpg'\n",
    "prediction_result = predict_hand(image_path, svm_model)\n",
    "print(prediction_result)\n"
   ]
  }
 ],
 "metadata": {
  "kernelspec": {
   "display_name": "Py3915",
   "language": "python",
   "name": "python3"
  },
  "language_info": {
   "name": "python",
   "version": "3.9.15"
  }
 },
 "nbformat": 4,
 "nbformat_minor": 2
}
