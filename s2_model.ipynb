{
 "cells": [
  {
   "cell_type": "code",
   "execution_count": null,
   "metadata": {},
   "outputs": [],
   "source": [
    "import pandas as pd\n",
    "import cv2\n",
    "import numpy as np\n",
    "from skimage.feature import hog\n"
   ]
  },
  {
   "cell_type": "code",
   "execution_count": null,
   "metadata": {},
   "outputs": [],
   "source": [
    "# Đọc file CSV\n",
    "data = pd.read_csv('data/data_info.csv', header=None)\n",
    "\n",
    "images = []\n",
    "labels = []\n",
    "\n",
    "# Duyệt qua từng dòng trong file CSV\n",
    "for idx, row in data.iterrows():\n",
    "    image_path = row[0]\n",
    "    num_hands = row[1]\n",
    "    image = cv2.imread(image_path)\n",
    "\n",
    "    if num_hands == 0:\n",
    "        # Nếu không có tay trong ảnh\n",
    "        images.append(image)\n",
    "        labels.append(0)\n",
    "    else:\n",
    "        for i in range(num_hands):\n",
    "            x_min, y_min, x_max, y_max = row[2 + i*4 : 6 + i*4]\n",
    "            hand_region = image[y_min:y_max, x_min:x_max]\n",
    "            images.append(hand_region)\n",
    "            labels.append(1)\n",
    "            \n",
    "            # Lấy thêm các vùng không chứa tay để cân bằng dữ liệu\n",
    "            non_hand_region = image[y_max:y_max + (y_max - y_min), x_min:x_max] if y_max + (y_max - y_min) < image.shape[0] else None\n",
    "            if non_hand_region is not None:\n",
    "                images.append(non_hand_region)\n",
    "                labels.append(0)\n",
    "\n",
    "images = np.array(images)\n",
    "labels = np.array(labels)\n"
   ]
  },
  {
   "cell_type": "code",
   "execution_count": null,
   "metadata": {},
   "outputs": [],
   "source": [
    "# Trích xuất HOG cho tất cả ảnh\n",
    "features = []\n",
    "for image in images:\n",
    "    gray_image = cv2.cvtColor(image, cv2.COLOR_BGR2GRAY)\n",
    "    feature = hog(gray_image, pixels_per_cell=(8, 8), cells_per_block=(2, 2))\n",
    "    features.append(feature)\n",
    "\n",
    "features = np.array(features)\n"
   ]
  },
  {
   "cell_type": "code",
   "execution_count": null,
   "metadata": {},
   "outputs": [],
   "source": [
    "from sklearn.model_selection import train_test_split\n",
    "\n",
    "X_train, X_test, y_train, y_test = train_test_split(features, labels, test_size=0.2, random_state=42)\n"
   ]
  },
  {
   "cell_type": "code",
   "execution_count": null,
   "metadata": {},
   "outputs": [],
   "source": [
    "from sklearn.metrics import accuracy_score\n",
    "\n",
    "y_pred = model.predict(X_test)\n",
    "print(\"Accuracy:\", accuracy_score(y_test, y_pred))"
   ]
  }
 ],
 "metadata": {
  "kernelspec": {
   "display_name": "Py3915",
   "language": "python",
   "name": "python3"
  },
  "language_info": {
   "name": "python",
   "version": "3.9.15"
  }
 },
 "nbformat": 4,
 "nbformat_minor": 2
}
